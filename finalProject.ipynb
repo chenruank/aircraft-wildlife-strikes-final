{
 "cells": [
  {
   "cell_type": "markdown",
   "metadata": {},
   "source": [
    "### Imports"
   ]
  },
  {
   "cell_type": "code",
   "execution_count": 1,
   "metadata": {},
   "outputs": [],
   "source": [
    "import pandas as pd\n",
    "import numpy as np\n",
    "import matplotlib.pyplot as plt\n",
    "import seaborn as sns\n",
    "from scipy.stats import norm"
   ]
  },
  {
   "cell_type": "markdown",
   "metadata": {},
   "source": [
    "### Loading Dataset"
   ]
  },
  {
   "cell_type": "markdown",
   "metadata": {},
   "source": [
    "https://www.kaggle.com/datasets/faa/wildlife-strikes"
   ]
  },
  {
   "cell_type": "markdown",
   "metadata": {},
   "source": [
    "https://nbaa.org/wp-content/uploads/aircraft-operations/safety/in-flight-safety/wildlife-strike-response/Wildlife-Strikes-to-Civil-Aircraft-1990-2020.pdf"
   ]
  },
  {
   "cell_type": "code",
   "execution_count": 2,
   "metadata": {},
   "outputs": [
    {
     "name": "stdout",
     "output_type": "stream",
     "text": [
      "            Record ID  Incident Year  Incident Month   Incident Day  \\\n",
      "count   174104.000000  174104.000000   174104.000000  174104.000000   \n",
      "unique            NaN            NaN             NaN            NaN   \n",
      "top               NaN            NaN             NaN            NaN   \n",
      "freq              NaN            NaN             NaN            NaN   \n",
      "mean    241204.036915    2006.036392        7.171840      15.712264   \n",
      "std      94013.682213       6.747708        2.790152       8.799405   \n",
      "min       1000.000000    1990.000000        1.000000       1.000000   \n",
      "25%     205411.750000    2001.000000        5.000000       8.000000   \n",
      "50%     249102.500000    2007.000000        8.000000      16.000000   \n",
      "75%     322592.250000    2012.000000        9.000000      23.000000   \n",
      "max     367445.000000    2015.000000       12.000000      31.000000   \n",
      "\n",
      "       Operator ID Operator Aircraft Aircraft Type Aircraft Make  \\\n",
      "count       174104   174104   174104        133074        131051   \n",
      "unique         539      533      656             3            95   \n",
      "top            UNK  UNKNOWN  UNKNOWN             A           148   \n",
      "freq         39540    39540    40468        130919         48408   \n",
      "mean           NaN      NaN      NaN           NaN           NaN   \n",
      "std            NaN      NaN      NaN           NaN           NaN   \n",
      "min            NaN      NaN      NaN           NaN           NaN   \n",
      "25%            NaN      NaN      NaN           NaN           NaN   \n",
      "50%            NaN      NaN      NaN           NaN           NaN   \n",
      "75%            NaN      NaN      NaN           NaN           NaN   \n",
      "max            NaN      NaN      NaN           NaN           NaN   \n",
      "\n",
      "       Aircraft Model  ...  Fuselage Strike  Fuselage Damage  \\\n",
      "count          122439  ...    174104.000000    174104.000000   \n",
      "unique             63  ...              NaN              NaN   \n",
      "top                24  ...              NaN              NaN   \n",
      "freq            10133  ...              NaN              NaN   \n",
      "mean              NaN  ...         0.102703         0.004733   \n",
      "std               NaN  ...         0.303571         0.068633   \n",
      "min               NaN  ...         0.000000         0.000000   \n",
      "25%               NaN  ...         0.000000         0.000000   \n",
      "50%               NaN  ...         0.000000         0.000000   \n",
      "75%               NaN  ...         0.000000         0.000000   \n",
      "max               NaN  ...         1.000000         1.000000   \n",
      "\n",
      "       Landing Gear Strike  Landing Gear Damage    Tail Strike    Tail Damage  \\\n",
      "count        174104.000000        174104.000000  174104.000000  174104.000000   \n",
      "unique                 NaN                  NaN            NaN            NaN   \n",
      "top                    NaN                  NaN            NaN            NaN   \n",
      "freq                   NaN                  NaN            NaN            NaN   \n",
      "mean              0.046242             0.005813       0.011235       0.004176   \n",
      "std               0.210010             0.076019       0.105397       0.064485   \n",
      "min               0.000000             0.000000       0.000000       0.000000   \n",
      "25%               0.000000             0.000000       0.000000       0.000000   \n",
      "50%               0.000000             0.000000       0.000000       0.000000   \n",
      "75%               0.000000             0.000000       0.000000       0.000000   \n",
      "max               1.000000             1.000000       1.000000       1.000000   \n",
      "\n",
      "        Lights Strike  Lights Damage   Other Strike   Other Damage  \n",
      "count   174104.000000  174104.000000  174104.000000  174104.000000  \n",
      "unique            NaN            NaN            NaN            NaN  \n",
      "top               NaN            NaN            NaN            NaN  \n",
      "freq              NaN            NaN            NaN            NaN  \n",
      "mean         0.005962       0.004216       0.090727       0.008989  \n",
      "std          0.076983       0.064793       0.287222       0.094383  \n",
      "min          0.000000       0.000000       0.000000       0.000000  \n",
      "25%          0.000000       0.000000       0.000000       0.000000  \n",
      "50%          0.000000       0.000000       0.000000       0.000000  \n",
      "75%          0.000000       0.000000       0.000000       0.000000  \n",
      "max          1.000000       1.000000       1.000000       1.000000  \n",
      "\n",
      "[11 rows x 66 columns]\n"
     ]
    }
   ],
   "source": [
    "typeSpecification = {\"Aircraft Model\": str, \"Engine Model\": str, \"Engine3 Position\": str, \"Engine1 Position\":str}\n",
    "dataFrame = pd.read_csv('birdDatabase.csv', dtype=typeSpecification)\n",
    "print(dataFrame.describe(include=\"all\"))"
   ]
  },
  {
   "cell_type": "code",
   "execution_count": 4,
   "metadata": {},
   "outputs": [
    {
     "data": {
      "text/html": [
       "<div>\n",
       "<style scoped>\n",
       "    .dataframe tbody tr th:only-of-type {\n",
       "        vertical-align: middle;\n",
       "    }\n",
       "\n",
       "    .dataframe tbody tr th {\n",
       "        vertical-align: top;\n",
       "    }\n",
       "\n",
       "    .dataframe thead th {\n",
       "        text-align: right;\n",
       "    }\n",
       "</style>\n",
       "<table border=\"1\" class=\"dataframe\">\n",
       "  <thead>\n",
       "    <tr style=\"text-align: right;\">\n",
       "      <th></th>\n",
       "      <th>Record ID</th>\n",
       "      <th>Incident Year</th>\n",
       "      <th>Incident Month</th>\n",
       "      <th>Incident Day</th>\n",
       "      <th>Operator ID</th>\n",
       "      <th>Operator</th>\n",
       "      <th>Aircraft</th>\n",
       "      <th>Aircraft Type</th>\n",
       "      <th>Aircraft Make</th>\n",
       "      <th>Aircraft Model</th>\n",
       "      <th>...</th>\n",
       "      <th>Fuselage Strike</th>\n",
       "      <th>Fuselage Damage</th>\n",
       "      <th>Landing Gear Strike</th>\n",
       "      <th>Landing Gear Damage</th>\n",
       "      <th>Tail Strike</th>\n",
       "      <th>Tail Damage</th>\n",
       "      <th>Lights Strike</th>\n",
       "      <th>Lights Damage</th>\n",
       "      <th>Other Strike</th>\n",
       "      <th>Other Damage</th>\n",
       "    </tr>\n",
       "  </thead>\n",
       "  <tbody>\n",
       "    <tr>\n",
       "      <th>0</th>\n",
       "      <td>127128</td>\n",
       "      <td>1990</td>\n",
       "      <td>1</td>\n",
       "      <td>1</td>\n",
       "      <td>DAL</td>\n",
       "      <td>DELTA AIR LINES</td>\n",
       "      <td>B-757-200</td>\n",
       "      <td>A</td>\n",
       "      <td>148</td>\n",
       "      <td>26</td>\n",
       "      <td>...</td>\n",
       "      <td>0</td>\n",
       "      <td>0</td>\n",
       "      <td>0</td>\n",
       "      <td>0</td>\n",
       "      <td>1</td>\n",
       "      <td>1</td>\n",
       "      <td>0</td>\n",
       "      <td>0</td>\n",
       "      <td>0</td>\n",
       "      <td>0</td>\n",
       "    </tr>\n",
       "    <tr>\n",
       "      <th>1</th>\n",
       "      <td>129779</td>\n",
       "      <td>1990</td>\n",
       "      <td>1</td>\n",
       "      <td>1</td>\n",
       "      <td>HAL</td>\n",
       "      <td>HAWAIIAN AIR</td>\n",
       "      <td>DC-9</td>\n",
       "      <td>A</td>\n",
       "      <td>583</td>\n",
       "      <td>90</td>\n",
       "      <td>...</td>\n",
       "      <td>0</td>\n",
       "      <td>0</td>\n",
       "      <td>0</td>\n",
       "      <td>0</td>\n",
       "      <td>0</td>\n",
       "      <td>0</td>\n",
       "      <td>0</td>\n",
       "      <td>0</td>\n",
       "      <td>1</td>\n",
       "      <td>0</td>\n",
       "    </tr>\n",
       "    <tr>\n",
       "      <th>2</th>\n",
       "      <td>129780</td>\n",
       "      <td>1990</td>\n",
       "      <td>1</td>\n",
       "      <td>2</td>\n",
       "      <td>UNK</td>\n",
       "      <td>UNKNOWN</td>\n",
       "      <td>UNKNOWN</td>\n",
       "      <td>NaN</td>\n",
       "      <td>NaN</td>\n",
       "      <td>NaN</td>\n",
       "      <td>...</td>\n",
       "      <td>0</td>\n",
       "      <td>0</td>\n",
       "      <td>0</td>\n",
       "      <td>0</td>\n",
       "      <td>0</td>\n",
       "      <td>0</td>\n",
       "      <td>0</td>\n",
       "      <td>0</td>\n",
       "      <td>0</td>\n",
       "      <td>0</td>\n",
       "    </tr>\n",
       "    <tr>\n",
       "      <th>3</th>\n",
       "      <td>2258</td>\n",
       "      <td>1990</td>\n",
       "      <td>1</td>\n",
       "      <td>3</td>\n",
       "      <td>MIL</td>\n",
       "      <td>MILITARY</td>\n",
       "      <td>A-10A</td>\n",
       "      <td>A</td>\n",
       "      <td>345</td>\n",
       "      <td>NaN</td>\n",
       "      <td>...</td>\n",
       "      <td>0</td>\n",
       "      <td>0</td>\n",
       "      <td>0</td>\n",
       "      <td>0</td>\n",
       "      <td>0</td>\n",
       "      <td>0</td>\n",
       "      <td>0</td>\n",
       "      <td>0</td>\n",
       "      <td>0</td>\n",
       "      <td>0</td>\n",
       "    </tr>\n",
       "    <tr>\n",
       "      <th>4</th>\n",
       "      <td>2257</td>\n",
       "      <td>1990</td>\n",
       "      <td>1</td>\n",
       "      <td>3</td>\n",
       "      <td>MIL</td>\n",
       "      <td>MILITARY</td>\n",
       "      <td>F-16</td>\n",
       "      <td>A</td>\n",
       "      <td>561</td>\n",
       "      <td>NaN</td>\n",
       "      <td>...</td>\n",
       "      <td>0</td>\n",
       "      <td>0</td>\n",
       "      <td>0</td>\n",
       "      <td>0</td>\n",
       "      <td>0</td>\n",
       "      <td>0</td>\n",
       "      <td>0</td>\n",
       "      <td>0</td>\n",
       "      <td>0</td>\n",
       "      <td>0</td>\n",
       "    </tr>\n",
       "    <tr>\n",
       "      <th>...</th>\n",
       "      <td>...</td>\n",
       "      <td>...</td>\n",
       "      <td>...</td>\n",
       "      <td>...</td>\n",
       "      <td>...</td>\n",
       "      <td>...</td>\n",
       "      <td>...</td>\n",
       "      <td>...</td>\n",
       "      <td>...</td>\n",
       "      <td>...</td>\n",
       "      <td>...</td>\n",
       "      <td>...</td>\n",
       "      <td>...</td>\n",
       "      <td>...</td>\n",
       "      <td>...</td>\n",
       "      <td>...</td>\n",
       "      <td>...</td>\n",
       "      <td>...</td>\n",
       "      <td>...</td>\n",
       "      <td>...</td>\n",
       "      <td>...</td>\n",
       "    </tr>\n",
       "    <tr>\n",
       "      <th>174099</th>\n",
       "      <td>366091</td>\n",
       "      <td>2015</td>\n",
       "      <td>9</td>\n",
       "      <td>30</td>\n",
       "      <td>SWA</td>\n",
       "      <td>SOUTHWEST AIRLINES</td>\n",
       "      <td>B-737-700</td>\n",
       "      <td>A</td>\n",
       "      <td>148</td>\n",
       "      <td>42</td>\n",
       "      <td>...</td>\n",
       "      <td>0</td>\n",
       "      <td>0</td>\n",
       "      <td>0</td>\n",
       "      <td>0</td>\n",
       "      <td>0</td>\n",
       "      <td>0</td>\n",
       "      <td>0</td>\n",
       "      <td>0</td>\n",
       "      <td>0</td>\n",
       "      <td>0</td>\n",
       "    </tr>\n",
       "    <tr>\n",
       "      <th>174100</th>\n",
       "      <td>365902</td>\n",
       "      <td>2015</td>\n",
       "      <td>9</td>\n",
       "      <td>30</td>\n",
       "      <td>SWA</td>\n",
       "      <td>SOUTHWEST AIRLINES</td>\n",
       "      <td>B-737-700</td>\n",
       "      <td>A</td>\n",
       "      <td>148</td>\n",
       "      <td>42</td>\n",
       "      <td>...</td>\n",
       "      <td>0</td>\n",
       "      <td>0</td>\n",
       "      <td>0</td>\n",
       "      <td>0</td>\n",
       "      <td>0</td>\n",
       "      <td>0</td>\n",
       "      <td>0</td>\n",
       "      <td>0</td>\n",
       "      <td>0</td>\n",
       "      <td>0</td>\n",
       "    </tr>\n",
       "    <tr>\n",
       "      <th>174101</th>\n",
       "      <td>365903</td>\n",
       "      <td>2015</td>\n",
       "      <td>9</td>\n",
       "      <td>30</td>\n",
       "      <td>BUS</td>\n",
       "      <td>BUSINESS</td>\n",
       "      <td>CITATIONJET</td>\n",
       "      <td>A</td>\n",
       "      <td>226</td>\n",
       "      <td>49</td>\n",
       "      <td>...</td>\n",
       "      <td>1</td>\n",
       "      <td>1</td>\n",
       "      <td>0</td>\n",
       "      <td>0</td>\n",
       "      <td>0</td>\n",
       "      <td>0</td>\n",
       "      <td>0</td>\n",
       "      <td>0</td>\n",
       "      <td>0</td>\n",
       "      <td>0</td>\n",
       "    </tr>\n",
       "    <tr>\n",
       "      <th>174102</th>\n",
       "      <td>366046</td>\n",
       "      <td>2015</td>\n",
       "      <td>9</td>\n",
       "      <td>30</td>\n",
       "      <td>QXE</td>\n",
       "      <td>HORIZON AIR</td>\n",
       "      <td>DHC8 DASH 8</td>\n",
       "      <td>A</td>\n",
       "      <td>303</td>\n",
       "      <td>10</td>\n",
       "      <td>...</td>\n",
       "      <td>1</td>\n",
       "      <td>0</td>\n",
       "      <td>0</td>\n",
       "      <td>0</td>\n",
       "      <td>0</td>\n",
       "      <td>0</td>\n",
       "      <td>0</td>\n",
       "      <td>0</td>\n",
       "      <td>0</td>\n",
       "      <td>0</td>\n",
       "    </tr>\n",
       "    <tr>\n",
       "      <th>174103</th>\n",
       "      <td>365823</td>\n",
       "      <td>2015</td>\n",
       "      <td>9</td>\n",
       "      <td>30</td>\n",
       "      <td>AWI</td>\n",
       "      <td>AIR WISCONSIN AIRLINES</td>\n",
       "      <td>CRJ100/200</td>\n",
       "      <td>A</td>\n",
       "      <td>188</td>\n",
       "      <td>10</td>\n",
       "      <td>...</td>\n",
       "      <td>0</td>\n",
       "      <td>0</td>\n",
       "      <td>0</td>\n",
       "      <td>0</td>\n",
       "      <td>0</td>\n",
       "      <td>0</td>\n",
       "      <td>0</td>\n",
       "      <td>0</td>\n",
       "      <td>1</td>\n",
       "      <td>0</td>\n",
       "    </tr>\n",
       "  </tbody>\n",
       "</table>\n",
       "<p>174104 rows × 66 columns</p>\n",
       "</div>"
      ],
      "text/plain": [
       "        Record ID  Incident Year  Incident Month  Incident Day Operator ID  \\\n",
       "0          127128           1990               1             1         DAL   \n",
       "1          129779           1990               1             1         HAL   \n",
       "2          129780           1990               1             2         UNK   \n",
       "3            2258           1990               1             3         MIL   \n",
       "4            2257           1990               1             3         MIL   \n",
       "...           ...            ...             ...           ...         ...   \n",
       "174099     366091           2015               9            30         SWA   \n",
       "174100     365902           2015               9            30         SWA   \n",
       "174101     365903           2015               9            30         BUS   \n",
       "174102     366046           2015               9            30         QXE   \n",
       "174103     365823           2015               9            30         AWI   \n",
       "\n",
       "                      Operator     Aircraft Aircraft Type Aircraft Make  \\\n",
       "0              DELTA AIR LINES    B-757-200             A           148   \n",
       "1                 HAWAIIAN AIR         DC-9             A           583   \n",
       "2                      UNKNOWN      UNKNOWN           NaN           NaN   \n",
       "3                     MILITARY        A-10A             A           345   \n",
       "4                     MILITARY         F-16             A           561   \n",
       "...                        ...          ...           ...           ...   \n",
       "174099      SOUTHWEST AIRLINES    B-737-700             A           148   \n",
       "174100      SOUTHWEST AIRLINES    B-737-700             A           148   \n",
       "174101                BUSINESS  CITATIONJET             A           226   \n",
       "174102             HORIZON AIR  DHC8 DASH 8             A           303   \n",
       "174103  AIR WISCONSIN AIRLINES   CRJ100/200             A           188   \n",
       "\n",
       "       Aircraft Model  ...  Fuselage Strike  Fuselage Damage  \\\n",
       "0                  26  ...                0                0   \n",
       "1                  90  ...                0                0   \n",
       "2                 NaN  ...                0                0   \n",
       "3                 NaN  ...                0                0   \n",
       "4                 NaN  ...                0                0   \n",
       "...               ...  ...              ...              ...   \n",
       "174099             42  ...                0                0   \n",
       "174100             42  ...                0                0   \n",
       "174101             49  ...                1                1   \n",
       "174102             10  ...                1                0   \n",
       "174103             10  ...                0                0   \n",
       "\n",
       "       Landing Gear Strike  Landing Gear Damage Tail Strike Tail Damage  \\\n",
       "0                        0                    0           1           1   \n",
       "1                        0                    0           0           0   \n",
       "2                        0                    0           0           0   \n",
       "3                        0                    0           0           0   \n",
       "4                        0                    0           0           0   \n",
       "...                    ...                  ...         ...         ...   \n",
       "174099                   0                    0           0           0   \n",
       "174100                   0                    0           0           0   \n",
       "174101                   0                    0           0           0   \n",
       "174102                   0                    0           0           0   \n",
       "174103                   0                    0           0           0   \n",
       "\n",
       "        Lights Strike Lights Damage  Other Strike Other Damage  \n",
       "0                   0             0             0            0  \n",
       "1                   0             0             1            0  \n",
       "2                   0             0             0            0  \n",
       "3                   0             0             0            0  \n",
       "4                   0             0             0            0  \n",
       "...               ...           ...           ...          ...  \n",
       "174099              0             0             0            0  \n",
       "174100              0             0             0            0  \n",
       "174101              0             0             0            0  \n",
       "174102              0             0             0            0  \n",
       "174103              0             0             1            0  \n",
       "\n",
       "[174104 rows x 66 columns]"
      ]
     },
     "execution_count": 4,
     "metadata": {},
     "output_type": "execute_result"
    }
   ],
   "source": [
    "dataFrame"
   ]
  },
  {
   "cell_type": "markdown",
   "metadata": {},
   "source": [
    "### Column Names Reference"
   ]
  },
  {
   "cell_type": "code",
   "execution_count": 5,
   "metadata": {},
   "outputs": [
    {
     "name": "stdout",
     "output_type": "stream",
     "text": [
      "<class 'pandas.core.frame.DataFrame'>\n",
      "RangeIndex: 174104 entries, 0 to 174103\n",
      "Data columns (total 66 columns):\n",
      " #   Column                Non-Null Count   Dtype  \n",
      "---  ------                --------------   -----  \n",
      " 0   Record ID             174104 non-null  int64  \n",
      " 1   Incident Year         174104 non-null  int64  \n",
      " 2   Incident Month        174104 non-null  int64  \n",
      " 3   Incident Day          174104 non-null  int64  \n",
      " 4   Operator ID           174104 non-null  object \n",
      " 5   Operator              174104 non-null  object \n",
      " 6   Aircraft              174104 non-null  object \n",
      " 7   Aircraft Type         133074 non-null  object \n",
      " 8   Aircraft Make         131051 non-null  object \n",
      " 9   Aircraft Model        122439 non-null  object \n",
      " 10  Aircraft Mass         127320 non-null  float64\n",
      " 11  Engine Make           123434 non-null  float64\n",
      " 12  Engine Model          121988 non-null  object \n",
      " 13  Engines               127342 non-null  float64\n",
      " 14  Engine Type           127282 non-null  object \n",
      " 15  Engine1 Position      126193 non-null  object \n",
      " 16  Engine2 Position      118715 non-null  float64\n",
      " 17  Engine3 Position      11659 non-null   object \n",
      " 18  Engine4 Position      3092 non-null    float64\n",
      " 19  Airport ID            174104 non-null  object \n",
      " 20  Airport               173814 non-null  object \n",
      " 21  State                 152128 non-null  object \n",
      " 22  FAA Region            155202 non-null  object \n",
      " 23  Warning Issued        76418 non-null   object \n",
      " 24  Flight Phase          118802 non-null  object \n",
      " 25  Visibility            109933 non-null  object \n",
      " 26  Precipitation         88322 non-null   object \n",
      " 27  Height                103677 non-null  float64\n",
      " 28  Speed                 71258 non-null   float64\n",
      " 29  Distance              99713 non-null   float64\n",
      " 30  Species ID            174104 non-null  object \n",
      " 31  Species Name          174024 non-null  object \n",
      " 32  Species Quantity      169627 non-null  object \n",
      " 33  Flight Impact         99465 non-null   object \n",
      " 34  Fatalities            565 non-null     float64\n",
      " 35  Injuries              229 non-null     float64\n",
      " 36  Aircraft Damage       174104 non-null  int64  \n",
      " 37  Radome Strike         174104 non-null  int64  \n",
      " 38  Radome Damage         174104 non-null  int64  \n",
      " 39  Windshield Strike     174104 non-null  int64  \n",
      " 40  Windshield Damage     174104 non-null  int64  \n",
      " 41  Nose Strike           174104 non-null  int64  \n",
      " 42  Nose Damage           174104 non-null  int64  \n",
      " 43  Engine1 Strike        174104 non-null  int64  \n",
      " 44  Engine1 Damage        174104 non-null  int64  \n",
      " 45  Engine2 Strike        174104 non-null  int64  \n",
      " 46  Engine2 Damage        174104 non-null  int64  \n",
      " 47  Engine3 Strike        174104 non-null  int64  \n",
      " 48  Engine3 Damage        174104 non-null  int64  \n",
      " 49  Engine4 Strike        174104 non-null  int64  \n",
      " 50  Engine4 Damage        174104 non-null  int64  \n",
      " 51  Engine Ingested       174104 non-null  int64  \n",
      " 52  Propeller Strike      174104 non-null  int64  \n",
      " 53  Propeller Damage      174104 non-null  int64  \n",
      " 54  Wing or Rotor Strike  174104 non-null  int64  \n",
      " 55  Wing or Rotor Damage  174104 non-null  int64  \n",
      " 56  Fuselage Strike       174104 non-null  int64  \n",
      " 57  Fuselage Damage       174104 non-null  int64  \n",
      " 58  Landing Gear Strike   174104 non-null  int64  \n",
      " 59  Landing Gear Damage   174104 non-null  int64  \n",
      " 60  Tail Strike           174104 non-null  int64  \n",
      " 61  Tail Damage           174104 non-null  int64  \n",
      " 62  Lights Strike         174104 non-null  int64  \n",
      " 63  Lights Damage         174104 non-null  int64  \n",
      " 64  Other Strike          174104 non-null  int64  \n",
      " 65  Other Damage          174104 non-null  int64  \n",
      "dtypes: float64(10), int64(34), object(22)\n",
      "memory usage: 87.7+ MB\n"
     ]
    }
   ],
   "source": [
    "dataFrame.info()"
   ]
  },
  {
   "cell_type": "code",
   "execution_count": 22,
   "metadata": {},
   "outputs": [
    {
     "data": {
      "text/plain": [
       "Record ID                    0\n",
       "Incident Year                0\n",
       "Incident Month               0\n",
       "Incident Day                 0\n",
       "Operator ID                  0\n",
       "Operator                     0\n",
       "Aircraft                     0\n",
       "Aircraft Type            41030\n",
       "Aircraft Make            43053\n",
       "Aircraft Model           51665\n",
       "Aircraft Mass            46784\n",
       "Engine Make              50670\n",
       "Engine Model             52116\n",
       "Engines                  46762\n",
       "Engine Type              46822\n",
       "Engine1 Position         47911\n",
       "Engine2 Position         55389\n",
       "Engine3 Position        162445\n",
       "Engine4 Position        171012\n",
       "Airport ID                   0\n",
       "Airport                    290\n",
       "State                    21976\n",
       "FAA Region               18902\n",
       "Warning Issued           97686\n",
       "Flight Phase             55302\n",
       "Visibility               64171\n",
       "Precipitation            85782\n",
       "Height                   70427\n",
       "Speed                   102846\n",
       "Distance                 74391\n",
       "Species ID                   0\n",
       "Species Name                80\n",
       "Species Quantity          4477\n",
       "Flight Impact            74639\n",
       "Fatalities              173539\n",
       "Injuries                173875\n",
       "Aircraft Damage              0\n",
       "Radome Strike                0\n",
       "Radome Damage                0\n",
       "Windshield Strike            0\n",
       "Windshield Damage            0\n",
       "Nose Strike                  0\n",
       "Nose Damage                  0\n",
       "Engine1 Strike               0\n",
       "Engine1 Damage               0\n",
       "Engine2 Strike               0\n",
       "Engine2 Damage               0\n",
       "Engine3 Strike               0\n",
       "Engine3 Damage               0\n",
       "Engine4 Strike               0\n",
       "Engine4 Damage               0\n",
       "Engine Ingested              0\n",
       "Propeller Strike             0\n",
       "Propeller Damage             0\n",
       "Wing or Rotor Strike         0\n",
       "Wing or Rotor Damage         0\n",
       "Fuselage Strike              0\n",
       "Fuselage Damage              0\n",
       "Landing Gear Strike          0\n",
       "Landing Gear Damage          0\n",
       "Tail Strike                  0\n",
       "Tail Damage                  0\n",
       "Lights Strike                0\n",
       "Lights Damage                0\n",
       "Other Strike                 0\n",
       "Other Damage                 0\n",
       "Strike_                      0\n",
       "dtype: int64"
      ]
     },
     "execution_count": 22,
     "metadata": {},
     "output_type": "execute_result"
    }
   ],
   "source": [
    "pd.set_option('display.max_columns', 200)\n",
    "pd.set_option('display.max_rows', 100)\n",
    "pd.isna(dataFrame).sum()"
   ]
  },
  {
   "cell_type": "markdown",
   "metadata": {},
   "source": [
    "### Incidents Over Time"
   ]
  },
  {
   "cell_type": "code",
   "execution_count": 7,
   "metadata": {},
   "outputs": [
    {
     "data": {
      "text/html": [
       "<div>\n",
       "<style scoped>\n",
       "    .dataframe tbody tr th:only-of-type {\n",
       "        vertical-align: middle;\n",
       "    }\n",
       "\n",
       "    .dataframe tbody tr th {\n",
       "        vertical-align: top;\n",
       "    }\n",
       "\n",
       "    .dataframe thead th {\n",
       "        text-align: right;\n",
       "    }\n",
       "</style>\n",
       "<table border=\"1\" class=\"dataframe\">\n",
       "  <thead>\n",
       "    <tr style=\"text-align: right;\">\n",
       "      <th></th>\n",
       "      <th>Incident Day</th>\n",
       "      <th>Incident Month</th>\n",
       "      <th>Incident Year</th>\n",
       "    </tr>\n",
       "  </thead>\n",
       "  <tbody>\n",
       "    <tr>\n",
       "      <th>0</th>\n",
       "      <td>1</td>\n",
       "      <td>1</td>\n",
       "      <td>1990</td>\n",
       "    </tr>\n",
       "    <tr>\n",
       "      <th>1</th>\n",
       "      <td>1</td>\n",
       "      <td>1</td>\n",
       "      <td>1990</td>\n",
       "    </tr>\n",
       "    <tr>\n",
       "      <th>2</th>\n",
       "      <td>2</td>\n",
       "      <td>1</td>\n",
       "      <td>1990</td>\n",
       "    </tr>\n",
       "    <tr>\n",
       "      <th>3</th>\n",
       "      <td>3</td>\n",
       "      <td>1</td>\n",
       "      <td>1990</td>\n",
       "    </tr>\n",
       "    <tr>\n",
       "      <th>4</th>\n",
       "      <td>3</td>\n",
       "      <td>1</td>\n",
       "      <td>1990</td>\n",
       "    </tr>\n",
       "    <tr>\n",
       "      <th>...</th>\n",
       "      <td>...</td>\n",
       "      <td>...</td>\n",
       "      <td>...</td>\n",
       "    </tr>\n",
       "    <tr>\n",
       "      <th>174099</th>\n",
       "      <td>30</td>\n",
       "      <td>9</td>\n",
       "      <td>2015</td>\n",
       "    </tr>\n",
       "    <tr>\n",
       "      <th>174100</th>\n",
       "      <td>30</td>\n",
       "      <td>9</td>\n",
       "      <td>2015</td>\n",
       "    </tr>\n",
       "    <tr>\n",
       "      <th>174101</th>\n",
       "      <td>30</td>\n",
       "      <td>9</td>\n",
       "      <td>2015</td>\n",
       "    </tr>\n",
       "    <tr>\n",
       "      <th>174102</th>\n",
       "      <td>30</td>\n",
       "      <td>9</td>\n",
       "      <td>2015</td>\n",
       "    </tr>\n",
       "    <tr>\n",
       "      <th>174103</th>\n",
       "      <td>30</td>\n",
       "      <td>9</td>\n",
       "      <td>2015</td>\n",
       "    </tr>\n",
       "  </tbody>\n",
       "</table>\n",
       "<p>174104 rows × 3 columns</p>\n",
       "</div>"
      ],
      "text/plain": [
       "        Incident Day  Incident Month  Incident Year\n",
       "0                  1               1           1990\n",
       "1                  1               1           1990\n",
       "2                  2               1           1990\n",
       "3                  3               1           1990\n",
       "4                  3               1           1990\n",
       "...              ...             ...            ...\n",
       "174099            30               9           2015\n",
       "174100            30               9           2015\n",
       "174101            30               9           2015\n",
       "174102            30               9           2015\n",
       "174103            30               9           2015\n",
       "\n",
       "[174104 rows x 3 columns]"
      ]
     },
     "execution_count": 7,
     "metadata": {},
     "output_type": "execute_result"
    }
   ],
   "source": [
    "timeOfYear = dataFrame[['Incident Day', 'Incident Month', 'Incident Year']]\n",
    "timeOfYear"
   ]
  },
  {
   "cell_type": "code",
   "execution_count": 8,
   "metadata": {},
   "outputs": [
    {
     "name": "stdout",
     "output_type": "stream",
     "text": [
      "<class 'pandas.core.frame.DataFrame'>\n",
      "RangeIndex: 174104 entries, 0 to 174103\n",
      "Data columns (total 3 columns):\n",
      " #   Column          Non-Null Count   Dtype\n",
      "---  ------          --------------   -----\n",
      " 0   Incident Day    174104 non-null  int64\n",
      " 1   Incident Month  174104 non-null  int64\n",
      " 2   Incident Year   174104 non-null  int64\n",
      "dtypes: int64(3)\n",
      "memory usage: 4.0 MB\n"
     ]
    }
   ],
   "source": [
    "timeOfYear.info()"
   ]
  },
  {
   "cell_type": "code",
   "execution_count": 9,
   "metadata": {},
   "outputs": [
    {
     "data": {
      "text/plain": [
       "Incident Day      0\n",
       "Incident Month    0\n",
       "Incident Year     0\n",
       "dtype: int64"
      ]
     },
     "execution_count": 9,
     "metadata": {},
     "output_type": "execute_result"
    }
   ],
   "source": [
    "timeOfYear.isnull().sum()"
   ]
  },
  {
   "cell_type": "markdown",
   "metadata": {},
   "source": [
    "No null vales for incidents by time."
   ]
  },
  {
   "cell_type": "code",
   "execution_count": 10,
   "metadata": {},
   "outputs": [
    {
     "data": {
      "text/plain": [
       "2014    13976\n",
       "2013    11666\n",
       "2012    11264\n",
       "2011    10363\n",
       "2015    10148\n",
       "2010     9934\n",
       "2009     9848\n",
       "2008     7993\n",
       "2007     7993\n",
       "2006     7750\n",
       "2005     7591\n",
       "2004     7122\n",
       "2002     6659\n",
       "2003     6485\n",
       "2000     6351\n",
       "2001     6216\n",
       "1999     5385\n",
       "1998     4131\n",
       "1997     3651\n",
       "1996     3215\n",
       "1995     2989\n",
       "1994     2938\n",
       "1993     2849\n",
       "1992     2816\n",
       "1991     2672\n",
       "1990     2099\n",
       "Name: Incident Year, dtype: int64"
      ]
     },
     "execution_count": 10,
     "metadata": {},
     "output_type": "execute_result"
    }
   ],
   "source": [
    "byYear=dataFrame.iloc[:, 1].value_counts()\n",
    "byYear"
   ]
  },
  {
   "cell_type": "code",
   "execution_count": 11,
   "metadata": {},
   "outputs": [
    {
     "data": {
      "image/png": "[encoded data removed]",
      "text/plain": [
       "<Figure size 576x720 with 1 Axes>"
      ]
     },
     "metadata": {
      "needs_background": "light"
     },
     "output_type": "display_data"
    }
   ],
   "source": [
    "plt.figure(figsize=(8,10))\n",
    "\n",
    "sns.countplot(y=\"Incident Year\", data=dataFrame)\n",
    "\n",
    "plt.title(\"Incidents by Year\")\n",
    "\n",
    "plt.grid()\n",
    "\n",
    "plt.show()"
   ]
  },
  {
   "cell_type": "markdown",
   "metadata": {},
   "source": [
    "Incidents have been increasing over the years"
   ]
  },
  {
   "cell_type": "code",
   "execution_count": 12,
   "metadata": {},
   "outputs": [
    {
     "data": {
      "image/png": "[encoded data removed]",
      "text/plain": [
       "<Figure size 576x360 with 1 Axes>"
      ]
     },
     "metadata": {
      "needs_background": "light"
     },
     "output_type": "display_data"
    }
   ],
   "source": [
    "plt.figure(figsize=(8,5))\n",
    "\n",
    "sns.countplot(y=\"Incident Month\", data=dataFrame)\n",
    "\n",
    "plt.title(\"Incidents by Month\")\n",
    "plt.show()"
   ]
  },
  {
   "cell_type": "markdown",
   "metadata": {},
   "source": [
    "The worst months for birds are August and September."
   ]
  },
  {
   "cell_type": "markdown",
   "metadata": {},
   "source": [
    "The day of the week doesn't seem to have much affect on bird injuries. But late summer/early fall is a much more likely indicator. "
   ]
  },
  {
   "cell_type": "markdown",
   "metadata": {},
   "source": [
    "### Exploring other factors"
   ]
  },
  {
   "cell_type": "code",
   "execution_count": 13,
   "metadata": {},
   "outputs": [
    {
     "data": {
      "image/png": "[encoded data removed]",
      "text/plain": [
       "<Figure size 576x576 with 1 Axes>"
      ]
     },
     "metadata": {
      "needs_background": "light"
     },
     "output_type": "display_data"
    }
   ],
   "source": [
    "flightPhase=dataFrame.iloc[:,24]\n",
    "\n",
    "plt.figure(figsize=(8,8))\n",
    "sns.countplot(y=flightPhase, data=dataFrame)\n",
    "\n",
    "plt.title(\"Flight Phase\")\n",
    "plt.grid()\n",
    "\n",
    "plt.show()"
   ]
  },
  {
   "cell_type": "markdown",
   "metadata": {},
   "source": [
    "Most impacts occur when the plane is making its approach to land."
   ]
  },
  {
   "cell_type": "code",
   "execution_count": 14,
   "metadata": {},
   "outputs": [
    {
     "data": {
      "image/png": "[encoded data removed]",
      "text/plain": [
       "<Figure size 576x576 with 1 Axes>"
      ]
     },
     "metadata": {
      "needs_background": "light"
     },
     "output_type": "display_data"
    }
   ],
   "source": [
    "flightImpact=dataFrame.iloc[:,33]\n",
    "\n",
    "plt.figure(figsize=(8,8))\n",
    "sns.countplot(y=flightImpact, data=dataFrame)\n",
    "\n",
    "plt.title(\"Flight Impact\")\n",
    "plt.grid()\n",
    "\n",
    "plt.show()"
   ]
  },
  {
   "cell_type": "markdown",
   "metadata": {},
   "source": [
    "Airplane and bird collisions do not seem to affect the course of the flight but only rarely."
   ]
  },
  {
   "cell_type": "markdown",
   "metadata": {},
   "source": [
    "### Incidents by State"
   ]
  },
  {
   "cell_type": "code",
   "execution_count": 15,
   "metadata": {},
   "outputs": [
    {
     "data": {
      "text/plain": [
       "TX    14854\n",
       "CA    13187\n",
       "FL    10604\n",
       "NY     9043\n",
       "IL     7465\n",
       "      ...  \n",
       "AB       47\n",
       "MB       14\n",
       "NL        7\n",
       "SK        6\n",
       "NS        5\n",
       "Name: State, Length: 62, dtype: int64"
      ]
     },
     "execution_count": 15,
     "metadata": {},
     "output_type": "execute_result"
    }
   ],
   "source": [
    "byState=dataFrame.iloc[:, 21].value_counts()\n",
    "byState"
   ]
  },
  {
   "cell_type": "code",
   "execution_count": 16,
   "metadata": {},
   "outputs": [
    {
     "data": {
      "image/png": "[encoded data removed]",
      "text/plain": [
       "<Figure size 720x1440 with 1 Axes>"
      ]
     },
     "metadata": {
      "needs_background": "light"
     },
     "output_type": "display_data"
    }
   ],
   "source": [
    "plt.figure(figsize=(10,20))\n",
    "sns.countplot(y=\"State\", data=dataFrame)\n",
    "\n",
    "plt.title(\"Incidents by State\")\n",
    "plt.grid()\n",
    "\n",
    "plt.show()"
   ]
  },
  {
   "cell_type": "markdown",
   "metadata": {},
   "source": [
    "Bigger states see the most impacts."
   ]
  }
 ],
 "metadata": {
  "kernelspec": {
   "display_name": "Python 3",
   "language": "python",
   "name": "python3"
  },
  "language_info": {
   "codemirror_mode": {
    "name": "ipython",
    "version": 3
   },
   "file_extension": ".py",
   "mimetype": "text/x-python",
   "name": "python",
   "nbconvert_exporter": "python",
   "pygments_lexer": "ipython3",
   "version": "3.8.5"
  }
 },
 "nbformat": 4,
 "nbformat_minor": 4
}
